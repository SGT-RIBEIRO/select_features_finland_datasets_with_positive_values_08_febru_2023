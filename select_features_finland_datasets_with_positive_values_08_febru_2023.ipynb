{
  "nbformat": 4,
  "nbformat_minor": 0,
  "metadata": {
    "colab": {
      "provenance": []
    },
    "kernelspec": {
      "name": "python3",
      "display_name": "Python 3"
    },
    "language_info": {
      "name": "python"
    }
  },
  "cells": [
    {
      "cell_type": "markdown",
      "source": [
        "##**Utils**"
      ],
      "metadata": {
        "id": "5fHoTnh4OjEZ"
      }
    },
    {
      "cell_type": "code",
      "source": [
        "def cross_validation (X,y):\n",
        "  resultsDecisionTreeClassifier = []\n",
        "  resultsRandonForestClassifier = []\n",
        "  resultslogisticRegression = []\n",
        "  resultsNaviBayes = []\n",
        "  resultsSvm = []\n",
        "  for i in range(30):\n",
        "      kfold = KFold(n_splits=10, shuffle=True, random_state=i)\n",
        "\n",
        "      tree = DecisionTreeClassifier(criterion='entropy', min_samples_leaf=1, min_samples_split=2, splitter='best')\n",
        "      scoresTree = cross_val_score(tree, X, y.argmax(axis=1), cv=kfold)\n",
        "      resultsDecisionTreeClassifier.append(scoresTree.mean())\n",
        "\n",
        "      randonForest = RandomForestClassifier(criterion='entropy', min_samples_leaf=1, min_samples_split=2, n_estimators=100)\n",
        "      scoresRandonForest = cross_val_score(randonForest, X, y.argmax(axis=1), cv=kfold)\n",
        "      resultsRandonForestClassifier.append(scoresRandonForest.mean())\n",
        "\n",
        "      logisticRegression = LogisticRegression(C=1.0, solver='lbfgs', tol=0.0001)\n",
        "      scoresLogisticRegression = cross_val_score(logisticRegression, X, y.argmax(axis=1), cv=kfold)\n",
        "      resultslogisticRegression.append(scoresLogisticRegression.mean())\n",
        "\n",
        "      naviBayes = GaussianNB()\n",
        "      scoresNaviBayes = cross_val_score(naviBayes, X, y.argmax(axis=1), cv=kfold)\n",
        "      resultsNaviBayes.append(scoresNaviBayes.mean())\n",
        "\n",
        "  #Create a dataframe with results\n",
        "  results = pd.DataFrame({'DecisionTree': resultsDecisionTreeClassifier, 'RandonForest': resultsRandonForestClassifier, 'Logistic_Regression': resultslogisticRegression,\n",
        "                              'Navi Bayes': resultsNaviBayes})\n",
        "  \n",
        "  return results.describe()"
      ],
      "metadata": {
        "id": "WV2GhY5DOmqa"
      },
      "execution_count": null,
      "outputs": []
    },
    {
      "cell_type": "markdown",
      "source": [
        "##**importing the libraries**"
      ],
      "metadata": {
        "id": "i-bkuiGzOuFF"
      }
    },
    {
      "cell_type": "code",
      "execution_count": null,
      "metadata": {
        "id": "dwLsRyRgVBHN"
      },
      "outputs": [],
      "source": [
        "import pandas as pd\n",
        "import pandas\n",
        "import numpy as np\n",
        "import matplotlib.pyplot as plt\n",
        "import seaborn as sns\n",
        "from sklearn.preprocessing import LabelEncoder\n",
        "from sklearn.tree import DecisionTreeClassifier\n",
        "from sklearn.ensemble import RandomForestClassifier\n",
        "from sklearn.model_selection import GridSearchCV,cross_val_score, KFold, train_test_split\n",
        "from sklearn.metrics import classification_report, accuracy_score, confusion_matrix, precision_score, recall_score\n",
        "from sklearn.neighbors import KNeighborsClassifier\n",
        "from sklearn.linear_model import LogisticRegression\n",
        "from sklearn.naive_bayes import GaussianNB\n",
        "from sklearn.impute import KNNImputer\n",
        "from imblearn.over_sampling import RandomOverSampler\n",
        "from sklearn.metrics import accuracy_score, classification_report\n",
        "from sklearn.model_selection import train_test_split"
      ]
    },
    {
      "cell_type": "markdown",
      "source": [
        "##**Treating a third_df_finland base**"
      ],
      "metadata": {
        "id": "pJNqGrbxVJGA"
      }
    },
    {
      "cell_type": "code",
      "source": [
        "third_df_finlandia = pd.read_csv(\"https://raw.githubusercontent.com/SGT-RIBEIRO/datasets/main/dataset_finlandia/test-oura-data-F-with-cycle-phases-08-febru-2023.csv\")"
      ],
      "metadata": {
        "id": "wO7s23OMVohY"
      },
      "execution_count": null,
      "outputs": []
    },
    {
      "cell_type": "code",
      "source": [
        "third_df_finlandia.head(5)"
      ],
      "metadata": {
        "colab": {
          "base_uri": "https://localhost:8080/",
          "height": 332
        },
        "id": "u_bYRpTvYKou",
        "outputId": "1b8c93ac-a9d6-42fc-8dd5-a46655e3ab3c"
      },
      "execution_count": null,
      "outputs": [
        {
          "output_type": "execute_result",
          "data": {
            "text/plain": [
              "         date cycle phases  Sleep Score  Total Sleep Score  REM Sleep Score  \\\n",
              "0  07/12/2022           LP         83.0               86.0             70.0   \n",
              "1  08/12/2022           LP         84.0               89.0             93.0   \n",
              "2  10/12/2022           LP         82.0               78.0             68.0   \n",
              "3  11/12/2022           LP         83.0               74.0             79.0   \n",
              "4  12/12/2022           LP         80.0               82.0             59.0   \n",
              "\n",
              "   Deep Sleep Score  Sleep Efficiency Score  Restfulness Score  \\\n",
              "0             100.0                    76.0               85.0   \n",
              "1             100.0                    76.0               77.0   \n",
              "2              98.0                    88.0               88.0   \n",
              "3             100.0                    99.0               91.0   \n",
              "4             100.0                    65.0               75.0   \n",
              "\n",
              "   Sleep Latency Score  Sleep Timin Score  ...  Long Periods of Inactivity  \\\n",
              "0                 75.0               83.0  ...                           2   \n",
              "1                 72.0               67.0  ...                           1   \n",
              "2                 78.0               83.0  ...                           0   \n",
              "3                 78.0               82.0  ...                           1   \n",
              "4                 97.0               77.0  ...                           0   \n",
              "\n",
              "   Readiness Score  Previous Night Score  Sleep Balance Score  \\\n",
              "0             88.0                    74                100.0   \n",
              "1             86.0                    77                100.0   \n",
              "2             68.0                    73                 94.0   \n",
              "3             81.0                    75                 88.0   \n",
              "4             87.0                    68                 87.0   \n",
              "\n",
              "   Previous Day Activity Score  Activity Balance Score  Temperature Score  \\\n",
              "0                         96.0                    97.0               88.0   \n",
              "1                         93.0                    97.0               78.0   \n",
              "2                         90.0                    98.0               67.0   \n",
              "3                         86.0                    97.0               76.0   \n",
              "4                         95.0                    98.0               75.0   \n",
              "\n",
              "   Resting Heart Rate Score  HRV Balance Score  Recovery Index Score  \n",
              "0                      72.0               79.0                 100.0  \n",
              "1                      64.0               70.0                 100.0  \n",
              "2                      48.0               72.0                  68.0  \n",
              "3                      74.0               84.0                  53.0  \n",
              "4                      82.0               88.0                 100.0  \n",
              "\n",
              "[5 rows x 55 columns]"
            ],
            "text/html": [
              "\n",
              "  <div id=\"df-18f5cf9f-8725-46b4-89f8-020bd7c32114\">\n",
              "    <div class=\"colab-df-container\">\n",
              "      <div>\n",
              "<style scoped>\n",
              "    .dataframe tbody tr th:only-of-type {\n",
              "        vertical-align: middle;\n",
              "    }\n",
              "\n",
              "    .dataframe tbody tr th {\n",
              "        vertical-align: top;\n",
              "    }\n",
              "\n",
              "    .dataframe thead th {\n",
              "        text-align: right;\n",
              "    }\n",
              "</style>\n",
              "<table border=\"1\" class=\"dataframe\">\n",
              "  <thead>\n",
              "    <tr style=\"text-align: right;\">\n",
              "      <th></th>\n",
              "      <th>date</th>\n",
              "      <th>cycle phases</th>\n",
              "      <th>Sleep Score</th>\n",
              "      <th>Total Sleep Score</th>\n",
              "      <th>REM Sleep Score</th>\n",
              "      <th>Deep Sleep Score</th>\n",
              "      <th>Sleep Efficiency Score</th>\n",
              "      <th>Restfulness Score</th>\n",
              "      <th>Sleep Latency Score</th>\n",
              "      <th>Sleep Timin Score</th>\n",
              "      <th>...</th>\n",
              "      <th>Long Periods of Inactivity</th>\n",
              "      <th>Readiness Score</th>\n",
              "      <th>Previous Night Score</th>\n",
              "      <th>Sleep Balance Score</th>\n",
              "      <th>Previous Day Activity Score</th>\n",
              "      <th>Activity Balance Score</th>\n",
              "      <th>Temperature Score</th>\n",
              "      <th>Resting Heart Rate Score</th>\n",
              "      <th>HRV Balance Score</th>\n",
              "      <th>Recovery Index Score</th>\n",
              "    </tr>\n",
              "  </thead>\n",
              "  <tbody>\n",
              "    <tr>\n",
              "      <th>0</th>\n",
              "      <td>07/12/2022</td>\n",
              "      <td>LP</td>\n",
              "      <td>83.0</td>\n",
              "      <td>86.0</td>\n",
              "      <td>70.0</td>\n",
              "      <td>100.0</td>\n",
              "      <td>76.0</td>\n",
              "      <td>85.0</td>\n",
              "      <td>75.0</td>\n",
              "      <td>83.0</td>\n",
              "      <td>...</td>\n",
              "      <td>2</td>\n",
              "      <td>88.0</td>\n",
              "      <td>74</td>\n",
              "      <td>100.0</td>\n",
              "      <td>96.0</td>\n",
              "      <td>97.0</td>\n",
              "      <td>88.0</td>\n",
              "      <td>72.0</td>\n",
              "      <td>79.0</td>\n",
              "      <td>100.0</td>\n",
              "    </tr>\n",
              "    <tr>\n",
              "      <th>1</th>\n",
              "      <td>08/12/2022</td>\n",
              "      <td>LP</td>\n",
              "      <td>84.0</td>\n",
              "      <td>89.0</td>\n",
              "      <td>93.0</td>\n",
              "      <td>100.0</td>\n",
              "      <td>76.0</td>\n",
              "      <td>77.0</td>\n",
              "      <td>72.0</td>\n",
              "      <td>67.0</td>\n",
              "      <td>...</td>\n",
              "      <td>1</td>\n",
              "      <td>86.0</td>\n",
              "      <td>77</td>\n",
              "      <td>100.0</td>\n",
              "      <td>93.0</td>\n",
              "      <td>97.0</td>\n",
              "      <td>78.0</td>\n",
              "      <td>64.0</td>\n",
              "      <td>70.0</td>\n",
              "      <td>100.0</td>\n",
              "    </tr>\n",
              "    <tr>\n",
              "      <th>2</th>\n",
              "      <td>10/12/2022</td>\n",
              "      <td>LP</td>\n",
              "      <td>82.0</td>\n",
              "      <td>78.0</td>\n",
              "      <td>68.0</td>\n",
              "      <td>98.0</td>\n",
              "      <td>88.0</td>\n",
              "      <td>88.0</td>\n",
              "      <td>78.0</td>\n",
              "      <td>83.0</td>\n",
              "      <td>...</td>\n",
              "      <td>0</td>\n",
              "      <td>68.0</td>\n",
              "      <td>73</td>\n",
              "      <td>94.0</td>\n",
              "      <td>90.0</td>\n",
              "      <td>98.0</td>\n",
              "      <td>67.0</td>\n",
              "      <td>48.0</td>\n",
              "      <td>72.0</td>\n",
              "      <td>68.0</td>\n",
              "    </tr>\n",
              "    <tr>\n",
              "      <th>3</th>\n",
              "      <td>11/12/2022</td>\n",
              "      <td>LP</td>\n",
              "      <td>83.0</td>\n",
              "      <td>74.0</td>\n",
              "      <td>79.0</td>\n",
              "      <td>100.0</td>\n",
              "      <td>99.0</td>\n",
              "      <td>91.0</td>\n",
              "      <td>78.0</td>\n",
              "      <td>82.0</td>\n",
              "      <td>...</td>\n",
              "      <td>1</td>\n",
              "      <td>81.0</td>\n",
              "      <td>75</td>\n",
              "      <td>88.0</td>\n",
              "      <td>86.0</td>\n",
              "      <td>97.0</td>\n",
              "      <td>76.0</td>\n",
              "      <td>74.0</td>\n",
              "      <td>84.0</td>\n",
              "      <td>53.0</td>\n",
              "    </tr>\n",
              "    <tr>\n",
              "      <th>4</th>\n",
              "      <td>12/12/2022</td>\n",
              "      <td>LP</td>\n",
              "      <td>80.0</td>\n",
              "      <td>82.0</td>\n",
              "      <td>59.0</td>\n",
              "      <td>100.0</td>\n",
              "      <td>65.0</td>\n",
              "      <td>75.0</td>\n",
              "      <td>97.0</td>\n",
              "      <td>77.0</td>\n",
              "      <td>...</td>\n",
              "      <td>0</td>\n",
              "      <td>87.0</td>\n",
              "      <td>68</td>\n",
              "      <td>87.0</td>\n",
              "      <td>95.0</td>\n",
              "      <td>98.0</td>\n",
              "      <td>75.0</td>\n",
              "      <td>82.0</td>\n",
              "      <td>88.0</td>\n",
              "      <td>100.0</td>\n",
              "    </tr>\n",
              "  </tbody>\n",
              "</table>\n",
              "<p>5 rows × 55 columns</p>\n",
              "</div>\n",
              "      <button class=\"colab-df-convert\" onclick=\"convertToInteractive('df-18f5cf9f-8725-46b4-89f8-020bd7c32114')\"\n",
              "              title=\"Convert this dataframe to an interactive table.\"\n",
              "              style=\"display:none;\">\n",
              "        \n",
              "  <svg xmlns=\"http://www.w3.org/2000/svg\" height=\"24px\"viewBox=\"0 0 24 24\"\n",
              "       width=\"24px\">\n",
              "    <path d=\"M0 0h24v24H0V0z\" fill=\"none\"/>\n",
              "    <path d=\"M18.56 5.44l.94 2.06.94-2.06 2.06-.94-2.06-.94-.94-2.06-.94 2.06-2.06.94zm-11 1L8.5 8.5l.94-2.06 2.06-.94-2.06-.94L8.5 2.5l-.94 2.06-2.06.94zm10 10l.94 2.06.94-2.06 2.06-.94-2.06-.94-.94-2.06-.94 2.06-2.06.94z\"/><path d=\"M17.41 7.96l-1.37-1.37c-.4-.4-.92-.59-1.43-.59-.52 0-1.04.2-1.43.59L10.3 9.45l-7.72 7.72c-.78.78-.78 2.05 0 2.83L4 21.41c.39.39.9.59 1.41.59.51 0 1.02-.2 1.41-.59l7.78-7.78 2.81-2.81c.8-.78.8-2.07 0-2.86zM5.41 20L4 18.59l7.72-7.72 1.47 1.35L5.41 20z\"/>\n",
              "  </svg>\n",
              "      </button>\n",
              "      \n",
              "  <style>\n",
              "    .colab-df-container {\n",
              "      display:flex;\n",
              "      flex-wrap:wrap;\n",
              "      gap: 12px;\n",
              "    }\n",
              "\n",
              "    .colab-df-convert {\n",
              "      background-color: #E8F0FE;\n",
              "      border: none;\n",
              "      border-radius: 50%;\n",
              "      cursor: pointer;\n",
              "      display: none;\n",
              "      fill: #1967D2;\n",
              "      height: 32px;\n",
              "      padding: 0 0 0 0;\n",
              "      width: 32px;\n",
              "    }\n",
              "\n",
              "    .colab-df-convert:hover {\n",
              "      background-color: #E2EBFA;\n",
              "      box-shadow: 0px 1px 2px rgba(60, 64, 67, 0.3), 0px 1px 3px 1px rgba(60, 64, 67, 0.15);\n",
              "      fill: #174EA6;\n",
              "    }\n",
              "\n",
              "    [theme=dark] .colab-df-convert {\n",
              "      background-color: #3B4455;\n",
              "      fill: #D2E3FC;\n",
              "    }\n",
              "\n",
              "    [theme=dark] .colab-df-convert:hover {\n",
              "      background-color: #434B5C;\n",
              "      box-shadow: 0px 1px 3px 1px rgba(0, 0, 0, 0.15);\n",
              "      filter: drop-shadow(0px 1px 2px rgba(0, 0, 0, 0.3));\n",
              "      fill: #FFFFFF;\n",
              "    }\n",
              "  </style>\n",
              "\n",
              "      <script>\n",
              "        const buttonEl =\n",
              "          document.querySelector('#df-18f5cf9f-8725-46b4-89f8-020bd7c32114 button.colab-df-convert');\n",
              "        buttonEl.style.display =\n",
              "          google.colab.kernel.accessAllowed ? 'block' : 'none';\n",
              "\n",
              "        async function convertToInteractive(key) {\n",
              "          const element = document.querySelector('#df-18f5cf9f-8725-46b4-89f8-020bd7c32114');\n",
              "          const dataTable =\n",
              "            await google.colab.kernel.invokeFunction('convertToInteractive',\n",
              "                                                     [key], {});\n",
              "          if (!dataTable) return;\n",
              "\n",
              "          const docLinkHtml = 'Like what you see? Visit the ' +\n",
              "            '<a target=\"_blank\" href=https://colab.research.google.com/notebooks/data_table.ipynb>data table notebook</a>'\n",
              "            + ' to learn more about interactive tables.';\n",
              "          element.innerHTML = '';\n",
              "          dataTable['output_type'] = 'display_data';\n",
              "          await google.colab.output.renderOutput(dataTable, element);\n",
              "          const docLink = document.createElement('div');\n",
              "          docLink.innerHTML = docLinkHtml;\n",
              "          element.appendChild(docLink);\n",
              "        }\n",
              "      </script>\n",
              "    </div>\n",
              "  </div>\n",
              "  "
            ]
          },
          "metadata": {},
          "execution_count": 131
        }
      ]
    },
    {
      "cell_type": "code",
      "source": [
        "third_df_finlandia.drop(['date','Bedtime Start','Bedtime End'], axis=1, inplace=True)"
      ],
      "metadata": {
        "id": "5T_jBSFBZV3D"
      },
      "execution_count": null,
      "outputs": []
    },
    {
      "cell_type": "code",
      "source": [
        "third_df_finlandia = third_df_finlandia.iloc[0:60,:]"
      ],
      "metadata": {
        "id": "xFf9xZzOZgNj"
      },
      "execution_count": null,
      "outputs": []
    },
    {
      "cell_type": "code",
      "source": [
        "#replacing the \"Nones\" values with 0\n",
        "\n",
        "for name, value in third_df_finlandia.iteritems():\n",
        "  for x,i in enumerate(third_df_finlandia[name]):\n",
        "    if third_df_finlandia[name][x] == 'None':\n",
        "      third_df_finlandia[name][x] = 0"
      ],
      "metadata": {
        "id": "VaQVlvgSaMQb"
      },
      "execution_count": null,
      "outputs": []
    },
    {
      "cell_type": "code",
      "source": [
        "third_df_finlandia = third_df_finlandia.dropna(axis=0)"
      ],
      "metadata": {
        "id": "v0BR35P2ZuJj"
      },
      "execution_count": null,
      "outputs": []
    },
    {
      "cell_type": "code",
      "source": [
        "third_df_finlandia['Previous Night Score'] = third_df_finlandia['Previous Night Score'].astype('int')"
      ],
      "metadata": {
        "id": "Fc7lk6ohaZcz"
      },
      "execution_count": null,
      "outputs": []
    },
    {
      "cell_type": "code",
      "source": [
        "third_df_finlandia.rename(columns={'cycle phases': 'Cycle Phase'}, inplace = True)"
      ],
      "metadata": {
        "id": "7pFjdNNuumdf"
      },
      "execution_count": null,
      "outputs": []
    },
    {
      "cell_type": "code",
      "source": [
        "third_df_finlandia_X = third_df_finlandia.iloc[:,1:52]\n",
        "third_df_finlandia_y = third_df_finlandia.iloc[:,0]\n",
        "\n",
        "third_df_finlandia = pd.concat([third_df_finlandia_X,third_df_finlandia_y], axis=1)"
      ],
      "metadata": {
        "id": "u6fwpzGJbBBm"
      },
      "execution_count": null,
      "outputs": []
    },
    {
      "cell_type": "code",
      "source": [
        "#visualization of the quantity of each target\n",
        "\n",
        "sns.countplot(x=third_df_finlandia['Cycle Phase']);"
      ],
      "metadata": {
        "colab": {
          "base_uri": "https://localhost:8080/",
          "height": 279
        },
        "id": "fhmMm3k7ZC9N",
        "outputId": "51137bec-9295-416c-c378-f1b1dcfe2132"
      },
      "execution_count": null,
      "outputs": [
        {
          "output_type": "display_data",
          "data": {
            "text/plain": [
              "<Figure size 432x288 with 1 Axes>"
            ],
            "image/png": "[encoded data removed]"
          },
          "metadata": {
            "needs_background": "light"
          }
        }
      ]
    },
    {
      "cell_type": "code",
      "source": [
        "np.unique(third_df_finlandia['Cycle Phase'], return_counts=True)"
      ],
      "metadata": {
        "colab": {
          "base_uri": "https://localhost:8080/"
        },
        "id": "yjpgkNCUiU57",
        "outputId": "3304c652-6412-4ce1-f88d-a5e2e1977560"
      },
      "execution_count": null,
      "outputs": [
        {
          "output_type": "execute_result",
          "data": {
            "text/plain": [
              "(array(['FP', 'LP', 'M', 'O'], dtype=object), array([33, 17,  9,  1]))"
            ]
          },
          "metadata": {},
          "execution_count": 140
        }
      ]
    },
    {
      "cell_type": "markdown",
      "source": [
        "##**Cross-validation with the original data**"
      ],
      "metadata": {
        "id": "bkXiWYuG_56P"
      }
    },
    {
      "cell_type": "code",
      "source": [
        "X_original_data = third_df_finlandia.iloc[:,0:51]\n",
        "y_original_data = third_df_finlandia.iloc[:,51]\n",
        "y_original_data = pd.get_dummies(y_original_data, y_original_data).values"
      ],
      "metadata": {
        "id": "jfxx8gpoz5NB"
      },
      "execution_count": null,
      "outputs": []
    },
    {
      "cell_type": "code",
      "source": [
        "original_base_result_statistics = cross_validation(X_original_data, y_original_data)"
      ],
      "metadata": {
        "id": "RaoiV7ktPEmq"
      },
      "execution_count": null,
      "outputs": []
    },
    {
      "cell_type": "code",
      "source": [
        "original_base_result_statistics"
      ],
      "metadata": {
        "colab": {
          "base_uri": "https://localhost:8080/",
          "height": 300
        },
        "id": "ArAEBkEjQHYE",
        "outputId": "21309585-e095-4bd7-aea8-794d1fb4bed9"
      },
      "execution_count": null,
      "outputs": [
        {
          "output_type": "execute_result",
          "data": {
            "text/plain": [
              "       DecisionTree  RandonForest  Logistic_Regression  Navi Bayes\n",
              "count     30.000000     30.000000            30.000000   30.000000\n",
              "mean       0.690000      0.765000             0.503333    0.661111\n",
              "std        0.042345      0.032267             0.047424    0.024500\n",
              "min        0.616667      0.683333             0.433333    0.616667\n",
              "25%        0.666667      0.737500             0.466667    0.637500\n",
              "50%        0.700000      0.775000             0.491667    0.666667\n",
              "75%        0.716667      0.783333             0.533333    0.683333\n",
              "max        0.766667      0.816667             0.583333    0.716667"
            ],
            "text/html": [
              "\n",
              "  <div id=\"df-0b844d61-81f8-4215-8026-71634cbfd567\">\n",
              "    <div class=\"colab-df-container\">\n",
              "      <div>\n",
              "<style scoped>\n",
              "    .dataframe tbody tr th:only-of-type {\n",
              "        vertical-align: middle;\n",
              "    }\n",
              "\n",
              "    .dataframe tbody tr th {\n",
              "        vertical-align: top;\n",
              "    }\n",
              "\n",
              "    .dataframe thead th {\n",
              "        text-align: right;\n",
              "    }\n",
              "</style>\n",
              "<table border=\"1\" class=\"dataframe\">\n",
              "  <thead>\n",
              "    <tr style=\"text-align: right;\">\n",
              "      <th></th>\n",
              "      <th>DecisionTree</th>\n",
              "      <th>RandonForest</th>\n",
              "      <th>Logistic_Regression</th>\n",
              "      <th>Navi Bayes</th>\n",
              "    </tr>\n",
              "  </thead>\n",
              "  <tbody>\n",
              "    <tr>\n",
              "      <th>count</th>\n",
              "      <td>30.000000</td>\n",
              "      <td>30.000000</td>\n",
              "      <td>30.000000</td>\n",
              "      <td>30.000000</td>\n",
              "    </tr>\n",
              "    <tr>\n",
              "      <th>mean</th>\n",
              "      <td>0.690000</td>\n",
              "      <td>0.765000</td>\n",
              "      <td>0.503333</td>\n",
              "      <td>0.661111</td>\n",
              "    </tr>\n",
              "    <tr>\n",
              "      <th>std</th>\n",
              "      <td>0.042345</td>\n",
              "      <td>0.032267</td>\n",
              "      <td>0.047424</td>\n",
              "      <td>0.024500</td>\n",
              "    </tr>\n",
              "    <tr>\n",
              "      <th>min</th>\n",
              "      <td>0.616667</td>\n",
              "      <td>0.683333</td>\n",
              "      <td>0.433333</td>\n",
              "      <td>0.616667</td>\n",
              "    </tr>\n",
              "    <tr>\n",
              "      <th>25%</th>\n",
              "      <td>0.666667</td>\n",
              "      <td>0.737500</td>\n",
              "      <td>0.466667</td>\n",
              "      <td>0.637500</td>\n",
              "    </tr>\n",
              "    <tr>\n",
              "      <th>50%</th>\n",
              "      <td>0.700000</td>\n",
              "      <td>0.775000</td>\n",
              "      <td>0.491667</td>\n",
              "      <td>0.666667</td>\n",
              "    </tr>\n",
              "    <tr>\n",
              "      <th>75%</th>\n",
              "      <td>0.716667</td>\n",
              "      <td>0.783333</td>\n",
              "      <td>0.533333</td>\n",
              "      <td>0.683333</td>\n",
              "    </tr>\n",
              "    <tr>\n",
              "      <th>max</th>\n",
              "      <td>0.766667</td>\n",
              "      <td>0.816667</td>\n",
              "      <td>0.583333</td>\n",
              "      <td>0.716667</td>\n",
              "    </tr>\n",
              "  </tbody>\n",
              "</table>\n",
              "</div>\n",
              "      <button class=\"colab-df-convert\" onclick=\"convertToInteractive('df-0b844d61-81f8-4215-8026-71634cbfd567')\"\n",
              "              title=\"Convert this dataframe to an interactive table.\"\n",
              "              style=\"display:none;\">\n",
              "        \n",
              "  <svg xmlns=\"http://www.w3.org/2000/svg\" height=\"24px\"viewBox=\"0 0 24 24\"\n",
              "       width=\"24px\">\n",
              "    <path d=\"M0 0h24v24H0V0z\" fill=\"none\"/>\n",
              "    <path d=\"M18.56 5.44l.94 2.06.94-2.06 2.06-.94-2.06-.94-.94-2.06-.94 2.06-2.06.94zm-11 1L8.5 8.5l.94-2.06 2.06-.94-2.06-.94L8.5 2.5l-.94 2.06-2.06.94zm10 10l.94 2.06.94-2.06 2.06-.94-2.06-.94-.94-2.06-.94 2.06-2.06.94z\"/><path d=\"M17.41 7.96l-1.37-1.37c-.4-.4-.92-.59-1.43-.59-.52 0-1.04.2-1.43.59L10.3 9.45l-7.72 7.72c-.78.78-.78 2.05 0 2.83L4 21.41c.39.39.9.59 1.41.59.51 0 1.02-.2 1.41-.59l7.78-7.78 2.81-2.81c.8-.78.8-2.07 0-2.86zM5.41 20L4 18.59l7.72-7.72 1.47 1.35L5.41 20z\"/>\n",
              "  </svg>\n",
              "      </button>\n",
              "      \n",
              "  <style>\n",
              "    .colab-df-container {\n",
              "      display:flex;\n",
              "      flex-wrap:wrap;\n",
              "      gap: 12px;\n",
              "    }\n",
              "\n",
              "    .colab-df-convert {\n",
              "      background-color: #E8F0FE;\n",
              "      border: none;\n",
              "      border-radius: 50%;\n",
              "      cursor: pointer;\n",
              "      display: none;\n",
              "      fill: #1967D2;\n",
              "      height: 32px;\n",
              "      padding: 0 0 0 0;\n",
              "      width: 32px;\n",
              "    }\n",
              "\n",
              "    .colab-df-convert:hover {\n",
              "      background-color: #E2EBFA;\n",
              "      box-shadow: 0px 1px 2px rgba(60, 64, 67, 0.3), 0px 1px 3px 1px rgba(60, 64, 67, 0.15);\n",
              "      fill: #174EA6;\n",
              "    }\n",
              "\n",
              "    [theme=dark] .colab-df-convert {\n",
              "      background-color: #3B4455;\n",
              "      fill: #D2E3FC;\n",
              "    }\n",
              "\n",
              "    [theme=dark] .colab-df-convert:hover {\n",
              "      background-color: #434B5C;\n",
              "      box-shadow: 0px 1px 3px 1px rgba(0, 0, 0, 0.15);\n",
              "      filter: drop-shadow(0px 1px 2px rgba(0, 0, 0, 0.3));\n",
              "      fill: #FFFFFF;\n",
              "    }\n",
              "  </style>\n",
              "\n",
              "      <script>\n",
              "        const buttonEl =\n",
              "          document.querySelector('#df-0b844d61-81f8-4215-8026-71634cbfd567 button.colab-df-convert');\n",
              "        buttonEl.style.display =\n",
              "          google.colab.kernel.accessAllowed ? 'block' : 'none';\n",
              "\n",
              "        async function convertToInteractive(key) {\n",
              "          const element = document.querySelector('#df-0b844d61-81f8-4215-8026-71634cbfd567');\n",
              "          const dataTable =\n",
              "            await google.colab.kernel.invokeFunction('convertToInteractive',\n",
              "                                                     [key], {});\n",
              "          if (!dataTable) return;\n",
              "\n",
              "          const docLinkHtml = 'Like what you see? Visit the ' +\n",
              "            '<a target=\"_blank\" href=https://colab.research.google.com/notebooks/data_table.ipynb>data table notebook</a>'\n",
              "            + ' to learn more about interactive tables.';\n",
              "          element.innerHTML = '';\n",
              "          dataTable['output_type'] = 'display_data';\n",
              "          await google.colab.output.renderOutput(dataTable, element);\n",
              "          const docLink = document.createElement('div');\n",
              "          docLink.innerHTML = docLinkHtml;\n",
              "          element.appendChild(docLink);\n",
              "        }\n",
              "      </script>\n",
              "    </div>\n",
              "  </div>\n",
              "  "
            ]
          },
          "metadata": {},
          "execution_count": 143
        }
      ]
    },
    {
      "cell_type": "markdown",
      "source": [
        "##**cross-validation by resampling class \"O\"**"
      ],
      "metadata": {
        "id": "6-n-EI-UQcTD"
      }
    },
    {
      "cell_type": "code",
      "source": [
        "X_with_class_O_resampling = third_df_finlandia.iloc[:,0:51]\n",
        "y_with_class_O_resampling = third_df_finlandia.iloc[:,51]"
      ],
      "metadata": {
        "id": "f8w0YT2kQyVj"
      },
      "execution_count": null,
      "outputs": []
    },
    {
      "cell_type": "code",
      "source": [
        "#Balanced the \"O\" class with RandomOverSampler\n",
        "\n",
        "sampling_strategy = {\"O\": 5}\n",
        "\n",
        "randon_over_sampler = RandomOverSampler(random_state=42, sampling_strategy=sampling_strategy)\n",
        "\n",
        "# Balances the \"O\" class with the rest of the classes in the dataset\n",
        "X_with_class_O_resampling, y_with_class_O_resampling = randon_over_sampler.fit_resample(X_with_class_O_resampling, y_with_class_O_resampling)"
      ],
      "metadata": {
        "id": "zzxl3638xX9t"
      },
      "execution_count": null,
      "outputs": []
    },
    {
      "cell_type": "code",
      "source": [
        "#visualization of the quantity of each target\n",
        "\n",
        "sns.countplot(x=y_with_class_O_resampling);"
      ],
      "metadata": {
        "colab": {
          "base_uri": "https://localhost:8080/",
          "height": 279
        },
        "id": "b6YKcb_KZVfD",
        "outputId": "cabc64a9-96ab-4787-f723-1e4d80eadbdc"
      },
      "execution_count": null,
      "outputs": [
        {
          "output_type": "display_data",
          "data": {
            "text/plain": [
              "<Figure size 432x288 with 1 Axes>"
            ],
            "image/png": "[encoded data removed]"
          },
          "metadata": {
            "needs_background": "light"
          }
        }
      ]
    },
    {
      "cell_type": "code",
      "source": [
        "np.unique(y_with_class_O_resampling, return_counts=True)"
      ],
      "metadata": {
        "colab": {
          "base_uri": "https://localhost:8080/"
        },
        "id": "RDvUPekG0fI9",
        "outputId": "3a9e4ac2-1ac1-4a61-8f86-8982c5cf0fa0"
      },
      "execution_count": null,
      "outputs": [
        {
          "output_type": "execute_result",
          "data": {
            "text/plain": [
              "(array(['FP', 'LP', 'M', 'O'], dtype=object), array([33, 17,  9,  5]))"
            ]
          },
          "metadata": {},
          "execution_count": 147
        }
      ]
    },
    {
      "cell_type": "code",
      "source": [
        "X_with_class_O_resampling = X_with_class_O_resampling\n",
        "y_with_class_O_resampling = pd.get_dummies(y_with_class_O_resampling).values"
      ],
      "metadata": {
        "id": "Z5GLzIaGRj9c"
      },
      "execution_count": null,
      "outputs": []
    },
    {
      "cell_type": "code",
      "source": [
        "class_O_resampling_result_statistics = cross_validation(X_with_class_O_resampling, y_with_class_O_resampling)"
      ],
      "metadata": {
        "id": "OyvrOr3YRyAk"
      },
      "execution_count": null,
      "outputs": []
    },
    {
      "cell_type": "code",
      "source": [
        "class_O_resampling_result_statistics"
      ],
      "metadata": {
        "colab": {
          "base_uri": "https://localhost:8080/",
          "height": 300
        },
        "id": "IkIMaqxFSUwT",
        "outputId": "f011bde4-6367-4716-fe16-a594864aeef7"
      },
      "execution_count": null,
      "outputs": [
        {
          "output_type": "execute_result",
          "data": {
            "text/plain": [
              "       DecisionTree  RandonForest  Logistic_Regression  Navi Bayes\n",
              "count     30.000000     30.000000            30.000000   30.000000\n",
              "mean       0.707381      0.796508             0.542540    0.703413\n",
              "std        0.039065      0.022175             0.038851    0.027891\n",
              "min        0.621429      0.750000             0.461905    0.645238\n",
              "25%        0.686310      0.777976             0.513690    0.683929\n",
              "50%        0.705952      0.798810             0.544048    0.703571\n",
              "75%        0.733333      0.813690             0.565476    0.719048\n",
              "max        0.778571      0.833333             0.607143    0.773810"
            ],
            "text/html": [
              "\n",
              "  <div id=\"df-aeca540a-2c2e-46c6-ad59-7d79dd243e34\">\n",
              "    <div class=\"colab-df-container\">\n",
              "      <div>\n",
              "<style scoped>\n",
              "    .dataframe tbody tr th:only-of-type {\n",
              "        vertical-align: middle;\n",
              "    }\n",
              "\n",
              "    .dataframe tbody tr th {\n",
              "        vertical-align: top;\n",
              "    }\n",
              "\n",
              "    .dataframe thead th {\n",
              "        text-align: right;\n",
              "    }\n",
              "</style>\n",
              "<table border=\"1\" class=\"dataframe\">\n",
              "  <thead>\n",
              "    <tr style=\"text-align: right;\">\n",
              "      <th></th>\n",
              "      <th>DecisionTree</th>\n",
              "      <th>RandonForest</th>\n",
              "      <th>Logistic_Regression</th>\n",
              "      <th>Navi Bayes</th>\n",
              "    </tr>\n",
              "  </thead>\n",
              "  <tbody>\n",
              "    <tr>\n",
              "      <th>count</th>\n",
              "      <td>30.000000</td>\n",
              "      <td>30.000000</td>\n",
              "      <td>30.000000</td>\n",
              "      <td>30.000000</td>\n",
              "    </tr>\n",
              "    <tr>\n",
              "      <th>mean</th>\n",
              "      <td>0.707381</td>\n",
              "      <td>0.796508</td>\n",
              "      <td>0.542540</td>\n",
              "      <td>0.703413</td>\n",
              "    </tr>\n",
              "    <tr>\n",
              "      <th>std</th>\n",
              "      <td>0.039065</td>\n",
              "      <td>0.022175</td>\n",
              "      <td>0.038851</td>\n",
              "      <td>0.027891</td>\n",
              "    </tr>\n",
              "    <tr>\n",
              "      <th>min</th>\n",
              "      <td>0.621429</td>\n",
              "      <td>0.750000</td>\n",
              "      <td>0.461905</td>\n",
              "      <td>0.645238</td>\n",
              "    </tr>\n",
              "    <tr>\n",
              "      <th>25%</th>\n",
              "      <td>0.686310</td>\n",
              "      <td>0.777976</td>\n",
              "      <td>0.513690</td>\n",
              "      <td>0.683929</td>\n",
              "    </tr>\n",
              "    <tr>\n",
              "      <th>50%</th>\n",
              "      <td>0.705952</td>\n",
              "      <td>0.798810</td>\n",
              "      <td>0.544048</td>\n",
              "      <td>0.703571</td>\n",
              "    </tr>\n",
              "    <tr>\n",
              "      <th>75%</th>\n",
              "      <td>0.733333</td>\n",
              "      <td>0.813690</td>\n",
              "      <td>0.565476</td>\n",
              "      <td>0.719048</td>\n",
              "    </tr>\n",
              "    <tr>\n",
              "      <th>max</th>\n",
              "      <td>0.778571</td>\n",
              "      <td>0.833333</td>\n",
              "      <td>0.607143</td>\n",
              "      <td>0.773810</td>\n",
              "    </tr>\n",
              "  </tbody>\n",
              "</table>\n",
              "</div>\n",
              "      <button class=\"colab-df-convert\" onclick=\"convertToInteractive('df-aeca540a-2c2e-46c6-ad59-7d79dd243e34')\"\n",
              "              title=\"Convert this dataframe to an interactive table.\"\n",
              "              style=\"display:none;\">\n",
              "        \n",
              "  <svg xmlns=\"http://www.w3.org/2000/svg\" height=\"24px\"viewBox=\"0 0 24 24\"\n",
              "       width=\"24px\">\n",
              "    <path d=\"M0 0h24v24H0V0z\" fill=\"none\"/>\n",
              "    <path d=\"M18.56 5.44l.94 2.06.94-2.06 2.06-.94-2.06-.94-.94-2.06-.94 2.06-2.06.94zm-11 1L8.5 8.5l.94-2.06 2.06-.94-2.06-.94L8.5 2.5l-.94 2.06-2.06.94zm10 10l.94 2.06.94-2.06 2.06-.94-2.06-.94-.94-2.06-.94 2.06-2.06.94z\"/><path d=\"M17.41 7.96l-1.37-1.37c-.4-.4-.92-.59-1.43-.59-.52 0-1.04.2-1.43.59L10.3 9.45l-7.72 7.72c-.78.78-.78 2.05 0 2.83L4 21.41c.39.39.9.59 1.41.59.51 0 1.02-.2 1.41-.59l7.78-7.78 2.81-2.81c.8-.78.8-2.07 0-2.86zM5.41 20L4 18.59l7.72-7.72 1.47 1.35L5.41 20z\"/>\n",
              "  </svg>\n",
              "      </button>\n",
              "      \n",
              "  <style>\n",
              "    .colab-df-container {\n",
              "      display:flex;\n",
              "      flex-wrap:wrap;\n",
              "      gap: 12px;\n",
              "    }\n",
              "\n",
              "    .colab-df-convert {\n",
              "      background-color: #E8F0FE;\n",
              "      border: none;\n",
              "      border-radius: 50%;\n",
              "      cursor: pointer;\n",
              "      display: none;\n",
              "      fill: #1967D2;\n",
              "      height: 32px;\n",
              "      padding: 0 0 0 0;\n",
              "      width: 32px;\n",
              "    }\n",
              "\n",
              "    .colab-df-convert:hover {\n",
              "      background-color: #E2EBFA;\n",
              "      box-shadow: 0px 1px 2px rgba(60, 64, 67, 0.3), 0px 1px 3px 1px rgba(60, 64, 67, 0.15);\n",
              "      fill: #174EA6;\n",
              "    }\n",
              "\n",
              "    [theme=dark] .colab-df-convert {\n",
              "      background-color: #3B4455;\n",
              "      fill: #D2E3FC;\n",
              "    }\n",
              "\n",
              "    [theme=dark] .colab-df-convert:hover {\n",
              "      background-color: #434B5C;\n",
              "      box-shadow: 0px 1px 3px 1px rgba(0, 0, 0, 0.15);\n",
              "      filter: drop-shadow(0px 1px 2px rgba(0, 0, 0, 0.3));\n",
              "      fill: #FFFFFF;\n",
              "    }\n",
              "  </style>\n",
              "\n",
              "      <script>\n",
              "        const buttonEl =\n",
              "          document.querySelector('#df-aeca540a-2c2e-46c6-ad59-7d79dd243e34 button.colab-df-convert');\n",
              "        buttonEl.style.display =\n",
              "          google.colab.kernel.accessAllowed ? 'block' : 'none';\n",
              "\n",
              "        async function convertToInteractive(key) {\n",
              "          const element = document.querySelector('#df-aeca540a-2c2e-46c6-ad59-7d79dd243e34');\n",
              "          const dataTable =\n",
              "            await google.colab.kernel.invokeFunction('convertToInteractive',\n",
              "                                                     [key], {});\n",
              "          if (!dataTable) return;\n",
              "\n",
              "          const docLinkHtml = 'Like what you see? Visit the ' +\n",
              "            '<a target=\"_blank\" href=https://colab.research.google.com/notebooks/data_table.ipynb>data table notebook</a>'\n",
              "            + ' to learn more about interactive tables.';\n",
              "          element.innerHTML = '';\n",
              "          dataTable['output_type'] = 'display_data';\n",
              "          await google.colab.output.renderOutput(dataTable, element);\n",
              "          const docLink = document.createElement('div');\n",
              "          docLink.innerHTML = docLinkHtml;\n",
              "          element.appendChild(docLink);\n",
              "        }\n",
              "      </script>\n",
              "    </div>\n",
              "  </div>\n",
              "  "
            ]
          },
          "metadata": {},
          "execution_count": 150
        }
      ]
    },
    {
      "cell_type": "markdown",
      "source": [
        "##Start test of the RFE Method with automatic feature selection through cross-validation"
      ],
      "metadata": {
        "id": "BkrG7QHCxNiN"
      }
    },
    {
      "cell_type": "code",
      "source": [
        "from sklearn.feature_selection import RFECV\n",
        "from sklearn.model_selection import StratifiedKFold\n",
        "\n",
        "min_features_to_select = 30  \n",
        "randonForest = RandomForestClassifier(criterion='entropy', min_samples_leaf=1, min_samples_split=2, n_estimators=100)\n",
        "cv = StratifiedKFold(10)\n",
        "\n",
        "rfecv = RFECV(\n",
        "    estimator=randonForest,\n",
        "    step=1,\n",
        "    cv=cv,\n",
        "    scoring=\"accuracy\",\n",
        "    min_features_to_select=min_features_to_select,\n",
        "    n_jobs=2,\n",
        ")\n",
        "rfecv.fit(X_with_class_O_resampling, y_with_class_O_resampling.argmax(axis=1))\n",
        "\n",
        "print(f\"Optimal number of features: {rfecv.n_features_}\")"
      ],
      "metadata": {
        "colab": {
          "base_uri": "https://localhost:8080/"
        },
        "id": "7HFxWFPAZ13r",
        "outputId": "f60e4904-ce91-4652-a6a8-8fb58216dace"
      },
      "execution_count": null,
      "outputs": [
        {
          "output_type": "stream",
          "name": "stderr",
          "text": [
            "/usr/local/lib/python3.8/dist-packages/sklearn/model_selection/_split.py:676: UserWarning: The least populated class in y has only 5 members, which is less than n_splits=10.\n",
            "  warnings.warn(\n"
          ]
        },
        {
          "output_type": "stream",
          "name": "stdout",
          "text": [
            "Optimal number of features: 40\n"
          ]
        }
      ]
    },
    {
      "cell_type": "code",
      "source": [
        "rfecv.cv_results_"
      ],
      "metadata": {
        "colab": {
          "base_uri": "https://localhost:8080/"
        },
        "id": "F5KpgEUifSJs",
        "outputId": "32147c48-f9b3-4583-c40b-10a32725caf9"
      },
      "execution_count": null,
      "outputs": [
        {
          "output_type": "execute_result",
          "data": {
            "text/plain": [
              "{'mean_test_score': array([0.76904762, 0.76904762, 0.76904762, 0.78333333, 0.76904762,\n",
              "        0.8       , 0.8       , 0.76904762, 0.78571429, 0.77142857,\n",
              "        0.81904762, 0.74047619, 0.74047619, 0.7547619 , 0.76904762,\n",
              "        0.75714286, 0.72619048, 0.7547619 , 0.76666667, 0.78333333,\n",
              "        0.79761905, 0.7547619 ]),\n",
              " 'std_test_score': array([0.15358527, 0.13966676, 0.13966676, 0.14063752, 0.15358527,\n",
              "        0.13560982, 0.13560982, 0.13966676, 0.15540161, 0.15474359,\n",
              "        0.14372751, 0.14771502, 0.14771502, 0.15135443, 0.15358527,\n",
              "        0.14784928, 0.15622024, 0.15135443, 0.16176465, 0.14063752,\n",
              "        0.14015298, 0.15135443]),\n",
              " 'split0_test_score': array([0.57142857, 0.71428571, 0.71428571, 0.71428571, 0.57142857,\n",
              "        0.71428571, 0.71428571, 0.71428571, 0.71428571, 0.71428571,\n",
              "        0.71428571, 0.71428571, 0.57142857, 0.57142857, 0.57142857,\n",
              "        0.57142857, 0.57142857, 0.57142857, 0.71428571, 0.71428571,\n",
              "        0.85714286, 0.57142857]),\n",
              " 'split1_test_score': array([0.85714286, 0.71428571, 0.85714286, 0.85714286, 0.85714286,\n",
              "        0.85714286, 0.85714286, 0.71428571, 0.71428571, 0.71428571,\n",
              "        0.71428571, 0.71428571, 0.71428571, 0.85714286, 0.85714286,\n",
              "        0.71428571, 0.71428571, 0.71428571, 0.85714286, 0.85714286,\n",
              "        0.85714286, 0.71428571]),\n",
              " 'split2_test_score': array([0.85714286, 0.85714286, 0.71428571, 0.85714286, 0.85714286,\n",
              "        0.85714286, 0.85714286, 0.85714286, 0.85714286, 0.71428571,\n",
              "        0.85714286, 0.57142857, 0.71428571, 0.71428571, 0.85714286,\n",
              "        0.71428571, 0.57142857, 0.85714286, 0.85714286, 0.85714286,\n",
              "        0.85714286, 0.85714286]),\n",
              " 'split3_test_score': array([0.57142857, 0.57142857, 0.57142857, 0.57142857, 0.57142857,\n",
              "        0.57142857, 0.57142857, 0.57142857, 0.57142857, 0.57142857,\n",
              "        0.57142857, 0.57142857, 0.57142857, 0.57142857, 0.57142857,\n",
              "        0.57142857, 0.57142857, 0.57142857, 0.57142857, 0.57142857,\n",
              "        0.57142857, 0.57142857]),\n",
              " 'split4_test_score': array([0.83333333, 0.83333333, 0.83333333, 0.83333333, 0.83333333,\n",
              "        0.83333333, 0.83333333, 0.83333333, 1.        , 1.        ,\n",
              "        1.        , 0.83333333, 0.83333333, 0.83333333, 0.83333333,\n",
              "        0.83333333, 0.83333333, 0.83333333, 0.83333333, 0.83333333,\n",
              "        0.83333333, 0.83333333]),\n",
              " 'split5_test_score': array([0.66666667, 0.66666667, 0.66666667, 0.66666667, 0.66666667,\n",
              "        0.66666667, 0.66666667, 0.66666667, 0.66666667, 0.66666667,\n",
              "        0.83333333, 0.66666667, 0.66666667, 0.66666667, 0.66666667,\n",
              "        0.66666667, 0.66666667, 0.66666667, 0.66666667, 0.66666667,\n",
              "        0.66666667, 0.66666667]),\n",
              " 'split6_test_score': array([1., 1., 1., 1., 1., 1., 1., 1., 1., 1., 1., 1., 1., 1., 1., 1., 1.,\n",
              "        1., 1., 1., 1., 1.]),\n",
              " 'split7_test_score': array([0.66666667, 0.66666667, 0.66666667, 0.66666667, 0.66666667,\n",
              "        0.83333333, 0.83333333, 0.66666667, 0.66666667, 0.66666667,\n",
              "        0.83333333, 0.66666667, 0.66666667, 0.66666667, 0.66666667,\n",
              "        0.83333333, 0.66666667, 0.66666667, 0.66666667, 0.66666667,\n",
              "        0.66666667, 0.66666667]),\n",
              " 'split8_test_score': array([1., 1., 1., 1., 1., 1., 1., 1., 1., 1., 1., 1., 1., 1., 1., 1., 1.,\n",
              "        1., 1., 1., 1., 1.]),\n",
              " 'split9_test_score': array([0.66666667, 0.66666667, 0.66666667, 0.66666667, 0.66666667,\n",
              "        0.66666667, 0.66666667, 0.66666667, 0.66666667, 0.66666667,\n",
              "        0.66666667, 0.66666667, 0.66666667, 0.66666667, 0.66666667,\n",
              "        0.66666667, 0.66666667, 0.66666667, 0.5       , 0.66666667,\n",
              "        0.66666667, 0.66666667])}"
            ]
          },
          "metadata": {},
          "execution_count": 152
        }
      ]
    },
    {
      "cell_type": "code",
      "source": [
        "n_scores = len(rfecv.cv_results_[\"mean_test_score\"])\n",
        "plt.figure()\n",
        "plt.xlabel(\"Number of features selected\")\n",
        "plt.ylabel(\"Mean test accuracy\")\n",
        "plt.errorbar(\n",
        "    range(min_features_to_select, n_scores + min_features_to_select),\n",
        "    rfecv.cv_results_[\"mean_test_score\"],\n",
        "    yerr=rfecv.cv_results_[\"std_test_score\"],\n",
        ")\n",
        "plt.title(\"Recursive Feature Elimination \\nwith correlated features\")\n",
        "plt.show()"
      ],
      "metadata": {
        "colab": {
          "base_uri": "https://localhost:8080/",
          "height": 310
        },
        "id": "UKVEEYvzeqFb",
        "outputId": "8e27a3cf-9b2c-47b6-d3a7-24efecffd37b"
      },
      "execution_count": null,
      "outputs": [
        {
          "output_type": "display_data",
          "data": {
            "text/plain": [
              "<Figure size 432x288 with 1 Axes>"
            ],
            "image/png": "[encoded data removed]"
          },
          "metadata": {
            "needs_background": "light"
          }
        }
      ]
    },
    {
      "cell_type": "code",
      "source": [
        "#selecting indices of selected and discarded features\n",
        "features_selected_index = []\n",
        "features_discarted_index = []\n",
        "for x in range(len(rfecv.support_)):\n",
        "  if rfecv.support_[x] == True:\n",
        "    features_selected_index.append(x)\n",
        "  else:\n",
        "    features_discarted_index.append(x)"
      ],
      "metadata": {
        "id": "KtD-mRXAbYXE"
      },
      "execution_count": null,
      "outputs": []
    },
    {
      "cell_type": "code",
      "source": [
        "features_selected = X_with_class_O_resampling.iloc[:,features_selected_index]\n",
        "features_discarted = X_with_class_O_resampling.iloc[:,features_discarted_index]"
      ],
      "metadata": {
        "id": "K_hQW4wrd0eF"
      },
      "execution_count": null,
      "outputs": []
    },
    {
      "cell_type": "code",
      "source": [
        "features_selected.columns"
      ],
      "metadata": {
        "colab": {
          "base_uri": "https://localhost:8080/"
        },
        "id": "gfpptIgjTd_C",
        "outputId": "02632171-3b6d-445a-88a7-d8f31162b83d"
      },
      "execution_count": null,
      "outputs": [
        {
          "output_type": "execute_result",
          "data": {
            "text/plain": [
              "Index(['Sleep Score', 'Total Sleep Score', 'REM Sleep Score',\n",
              "       'Restfulness Score', 'Sleep Latency Score', 'Total Sleep Duration',\n",
              "       'Total Bedtime ', 'Awake Time', 'REM Sleep Duration',\n",
              "       'Light Sleep Duration', 'Deep Sleep Duration', 'Restless Sleep',\n",
              "       'Sleep Latency', 'Sleep Timing', 'Average Resting Heart Rate',\n",
              "       'Lowest Resting Heart Rate', 'Average HRV',\n",
              "       'Temperature Deviation (°C)', 'Temperature Trend Deviation',\n",
              "       'Respiratory Rate', 'Activity Score', 'Meet Daily Targets Score',\n",
              "       'Training Frequency Score', 'Training Volume Score', 'Activity Burn',\n",
              "       'Total Burn', 'Steps', 'Rest Time', 'Low Activity Time',\n",
              "       'Medium Activity Time', 'High Activity Time', 'Non-wear Time',\n",
              "       'Readiness Score', 'Previous Night Score', 'Sleep Balance Score',\n",
              "       'Previous Day Activity Score', 'Activity Balance Score',\n",
              "       'Temperature Score', 'Resting Heart Rate Score', 'HRV Balance Score'],\n",
              "      dtype='object')"
            ]
          },
          "metadata": {},
          "execution_count": 158
        }
      ]
    },
    {
      "cell_type": "code",
      "source": [
        "features_discarted.columns"
      ],
      "metadata": {
        "colab": {
          "base_uri": "https://localhost:8080/"
        },
        "id": "dr1QgrdcTgtL",
        "outputId": "adcf758d-3d4a-4fee-f4b9-d4833fe82206"
      },
      "execution_count": null,
      "outputs": [
        {
          "output_type": "execute_result",
          "data": {
            "text/plain": [
              "Index(['Deep Sleep Score', 'Sleep Efficiency Score', 'Sleep Timin Score',\n",
              "       'Sleep Efficiency', 'Stay Active Score', 'Move Every Hour Score',\n",
              "       'Equivalent Walking Distance', 'Inactive Time', 'Average MET',\n",
              "       'Long Periods of Inactivity', 'Recovery Index Score'],\n",
              "      dtype='object')"
            ]
          },
          "metadata": {},
          "execution_count": 159
        }
      ]
    },
    {
      "cell_type": "code",
      "source": [
        "features_selected.shape, y_with_class_O_resampling.shape"
      ],
      "metadata": {
        "id": "M0sCJqK2X1Kj"
      },
      "execution_count": null,
      "outputs": []
    },
    {
      "cell_type": "code",
      "source": [
        "class_O_resampling_and_feeatures_selected_result_statistics = cross_validation(features_selected, y_with_class_O_resampling)"
      ],
      "metadata": {
        "id": "FGJgVZcLXeA0"
      },
      "execution_count": null,
      "outputs": []
    },
    {
      "cell_type": "code",
      "source": [
        "class_O_resampling_and_feeatures_selected_result_statistics"
      ],
      "metadata": {
        "colab": {
          "base_uri": "https://localhost:8080/",
          "height": 300
        },
        "id": "UKzTKiBrX9kU",
        "outputId": "323a7152-e736-4539-e867-3f95adcbd47b"
      },
      "execution_count": null,
      "outputs": [
        {
          "output_type": "execute_result",
          "data": {
            "text/plain": [
              "       DecisionTree  RandonForest  Logistic_Regression  Navi Bayes\n",
              "count     30.000000     30.000000            30.000000   30.000000\n",
              "mean       0.715635      0.798254             0.530159    0.746270\n",
              "std        0.034297      0.025689             0.029569    0.028294\n",
              "min        0.652381      0.759524             0.452381    0.700000\n",
              "25%        0.691071      0.779167             0.511905    0.731548\n",
              "50%        0.720238      0.792857             0.535714    0.738095\n",
              "75%        0.738095      0.817857             0.551190    0.754762\n",
              "max        0.780952      0.850000             0.585714    0.823810"
            ],
            "text/html": [
              "\n",
              "  <div id=\"df-93378de7-3d41-4e89-81da-9ec6f5d6c42f\">\n",
              "    <div class=\"colab-df-container\">\n",
              "      <div>\n",
              "<style scoped>\n",
              "    .dataframe tbody tr th:only-of-type {\n",
              "        vertical-align: middle;\n",
              "    }\n",
              "\n",
              "    .dataframe tbody tr th {\n",
              "        vertical-align: top;\n",
              "    }\n",
              "\n",
              "    .dataframe thead th {\n",
              "        text-align: right;\n",
              "    }\n",
              "</style>\n",
              "<table border=\"1\" class=\"dataframe\">\n",
              "  <thead>\n",
              "    <tr style=\"text-align: right;\">\n",
              "      <th></th>\n",
              "      <th>DecisionTree</th>\n",
              "      <th>RandonForest</th>\n",
              "      <th>Logistic_Regression</th>\n",
              "      <th>Navi Bayes</th>\n",
              "    </tr>\n",
              "  </thead>\n",
              "  <tbody>\n",
              "    <tr>\n",
              "      <th>count</th>\n",
              "      <td>30.000000</td>\n",
              "      <td>30.000000</td>\n",
              "      <td>30.000000</td>\n",
              "      <td>30.000000</td>\n",
              "    </tr>\n",
              "    <tr>\n",
              "      <th>mean</th>\n",
              "      <td>0.715635</td>\n",
              "      <td>0.798254</td>\n",
              "      <td>0.530159</td>\n",
              "      <td>0.746270</td>\n",
              "    </tr>\n",
              "    <tr>\n",
              "      <th>std</th>\n",
              "      <td>0.034297</td>\n",
              "      <td>0.025689</td>\n",
              "      <td>0.029569</td>\n",
              "      <td>0.028294</td>\n",
              "    </tr>\n",
              "    <tr>\n",
              "      <th>min</th>\n",
              "      <td>0.652381</td>\n",
              "      <td>0.759524</td>\n",
              "      <td>0.452381</td>\n",
              "      <td>0.700000</td>\n",
              "    </tr>\n",
              "    <tr>\n",
              "      <th>25%</th>\n",
              "      <td>0.691071</td>\n",
              "      <td>0.779167</td>\n",
              "      <td>0.511905</td>\n",
              "      <td>0.731548</td>\n",
              "    </tr>\n",
              "    <tr>\n",
              "      <th>50%</th>\n",
              "      <td>0.720238</td>\n",
              "      <td>0.792857</td>\n",
              "      <td>0.535714</td>\n",
              "      <td>0.738095</td>\n",
              "    </tr>\n",
              "    <tr>\n",
              "      <th>75%</th>\n",
              "      <td>0.738095</td>\n",
              "      <td>0.817857</td>\n",
              "      <td>0.551190</td>\n",
              "      <td>0.754762</td>\n",
              "    </tr>\n",
              "    <tr>\n",
              "      <th>max</th>\n",
              "      <td>0.780952</td>\n",
              "      <td>0.850000</td>\n",
              "      <td>0.585714</td>\n",
              "      <td>0.823810</td>\n",
              "    </tr>\n",
              "  </tbody>\n",
              "</table>\n",
              "</div>\n",
              "      <button class=\"colab-df-convert\" onclick=\"convertToInteractive('df-93378de7-3d41-4e89-81da-9ec6f5d6c42f')\"\n",
              "              title=\"Convert this dataframe to an interactive table.\"\n",
              "              style=\"display:none;\">\n",
              "        \n",
              "  <svg xmlns=\"http://www.w3.org/2000/svg\" height=\"24px\"viewBox=\"0 0 24 24\"\n",
              "       width=\"24px\">\n",
              "    <path d=\"M0 0h24v24H0V0z\" fill=\"none\"/>\n",
              "    <path d=\"M18.56 5.44l.94 2.06.94-2.06 2.06-.94-2.06-.94-.94-2.06-.94 2.06-2.06.94zm-11 1L8.5 8.5l.94-2.06 2.06-.94-2.06-.94L8.5 2.5l-.94 2.06-2.06.94zm10 10l.94 2.06.94-2.06 2.06-.94-2.06-.94-.94-2.06-.94 2.06-2.06.94z\"/><path d=\"M17.41 7.96l-1.37-1.37c-.4-.4-.92-.59-1.43-.59-.52 0-1.04.2-1.43.59L10.3 9.45l-7.72 7.72c-.78.78-.78 2.05 0 2.83L4 21.41c.39.39.9.59 1.41.59.51 0 1.02-.2 1.41-.59l7.78-7.78 2.81-2.81c.8-.78.8-2.07 0-2.86zM5.41 20L4 18.59l7.72-7.72 1.47 1.35L5.41 20z\"/>\n",
              "  </svg>\n",
              "      </button>\n",
              "      \n",
              "  <style>\n",
              "    .colab-df-container {\n",
              "      display:flex;\n",
              "      flex-wrap:wrap;\n",
              "      gap: 12px;\n",
              "    }\n",
              "\n",
              "    .colab-df-convert {\n",
              "      background-color: #E8F0FE;\n",
              "      border: none;\n",
              "      border-radius: 50%;\n",
              "      cursor: pointer;\n",
              "      display: none;\n",
              "      fill: #1967D2;\n",
              "      height: 32px;\n",
              "      padding: 0 0 0 0;\n",
              "      width: 32px;\n",
              "    }\n",
              "\n",
              "    .colab-df-convert:hover {\n",
              "      background-color: #E2EBFA;\n",
              "      box-shadow: 0px 1px 2px rgba(60, 64, 67, 0.3), 0px 1px 3px 1px rgba(60, 64, 67, 0.15);\n",
              "      fill: #174EA6;\n",
              "    }\n",
              "\n",
              "    [theme=dark] .colab-df-convert {\n",
              "      background-color: #3B4455;\n",
              "      fill: #D2E3FC;\n",
              "    }\n",
              "\n",
              "    [theme=dark] .colab-df-convert:hover {\n",
              "      background-color: #434B5C;\n",
              "      box-shadow: 0px 1px 3px 1px rgba(0, 0, 0, 0.15);\n",
              "      filter: drop-shadow(0px 1px 2px rgba(0, 0, 0, 0.3));\n",
              "      fill: #FFFFFF;\n",
              "    }\n",
              "  </style>\n",
              "\n",
              "      <script>\n",
              "        const buttonEl =\n",
              "          document.querySelector('#df-93378de7-3d41-4e89-81da-9ec6f5d6c42f button.colab-df-convert');\n",
              "        buttonEl.style.display =\n",
              "          google.colab.kernel.accessAllowed ? 'block' : 'none';\n",
              "\n",
              "        async function convertToInteractive(key) {\n",
              "          const element = document.querySelector('#df-93378de7-3d41-4e89-81da-9ec6f5d6c42f');\n",
              "          const dataTable =\n",
              "            await google.colab.kernel.invokeFunction('convertToInteractive',\n",
              "                                                     [key], {});\n",
              "          if (!dataTable) return;\n",
              "\n",
              "          const docLinkHtml = 'Like what you see? Visit the ' +\n",
              "            '<a target=\"_blank\" href=https://colab.research.google.com/notebooks/data_table.ipynb>data table notebook</a>'\n",
              "            + ' to learn more about interactive tables.';\n",
              "          element.innerHTML = '';\n",
              "          dataTable['output_type'] = 'display_data';\n",
              "          await google.colab.output.renderOutput(dataTable, element);\n",
              "          const docLink = document.createElement('div');\n",
              "          docLink.innerHTML = docLinkHtml;\n",
              "          element.appendChild(docLink);\n",
              "        }\n",
              "      </script>\n",
              "    </div>\n",
              "  </div>\n",
              "  "
            ]
          },
          "metadata": {},
          "execution_count": 162
        }
      ]
    },
    {
      "cell_type": "markdown",
      "source": [
        "##End test of the RFE Method with automatic feature selection through cross-validation"
      ],
      "metadata": {
        "id": "lBkZNg2RxS6L"
      }
    },
    {
      "cell_type": "markdown",
      "source": [
        "##Start test of the RFE Method with manual feature selection"
      ],
      "metadata": {
        "id": "MBFE7adRcHYt"
      }
    },
    {
      "cell_type": "code",
      "source": [
        "X_with_class_O_resampling.shape, y_with_class_O_resampling.shape"
      ],
      "metadata": {
        "id": "8b6eqdanbDaj"
      },
      "execution_count": null,
      "outputs": []
    },
    {
      "cell_type": "code",
      "source": [
        "from sklearn.feature_selection import RFE\n",
        "\n",
        "randonForest = RandomForestClassifier(criterion='entropy', min_samples_leaf=1, min_samples_split=2, n_estimators=100)\n",
        "\n",
        "rfe = RFE(estimator=randonForest, n_features_to_select=25)\n",
        "\n",
        "rfe.fit(X_with_class_O_resampling.values, y_with_class_O_resampling)"
      ],
      "metadata": {
        "colab": {
          "base_uri": "https://localhost:8080/"
        },
        "id": "5x-zdKDN0w9L",
        "outputId": "558c35b0-7d3f-48aa-e88a-8f00e25b3c8b"
      },
      "execution_count": null,
      "outputs": [
        {
          "output_type": "execute_result",
          "data": {
            "text/plain": [
              "RFE(estimator=RandomForestClassifier(criterion='entropy'),\n",
              "    n_features_to_select=25)"
            ]
          },
          "metadata": {},
          "execution_count": 166
        }
      ]
    },
    {
      "cell_type": "code",
      "source": [
        "print(\"Features selected:\")\n",
        "print(X_with_class_O_resampling.columns[rfe.support_])\n",
        "print(\"\\nDeleted features:\")\n",
        "print(X_with_class_O_resampling.columns[~rfe.support_])"
      ],
      "metadata": {
        "colab": {
          "base_uri": "https://localhost:8080/"
        },
        "id": "-tbdiWT412KF",
        "outputId": "2186770a-8ab2-4747-f354-5bf8a9667f92"
      },
      "execution_count": null,
      "outputs": [
        {
          "output_type": "stream",
          "name": "stdout",
          "text": [
            "Features selected:\n",
            "Index(['Sleep Latency Score', 'Total Sleep Duration', 'Awake Time',\n",
            "       'Light Sleep Duration', 'Deep Sleep Duration', 'Restless Sleep',\n",
            "       'Average Resting Heart Rate', 'Lowest Resting Heart Rate',\n",
            "       'Average HRV', 'Temperature Deviation (°C)',\n",
            "       'Temperature Trend Deviation', 'Respiratory Rate', 'Activity Score',\n",
            "       'Meet Daily Targets Score', 'Training Frequency Score',\n",
            "       'Training Volume Score', 'Low Activity Time', 'High Activity Time',\n",
            "       'Readiness Score', 'Previous Night Score', 'Sleep Balance Score',\n",
            "       'Activity Balance Score', 'Temperature Score',\n",
            "       'Resting Heart Rate Score', 'HRV Balance Score'],\n",
            "      dtype='object')\n",
            "\n",
            "Deleted features:\n",
            "Index(['Sleep Score', 'Total Sleep Score', 'REM Sleep Score',\n",
            "       'Deep Sleep Score', 'Sleep Efficiency Score', 'Restfulness Score',\n",
            "       'Sleep Timin Score', 'Total Bedtime ', 'REM Sleep Duration',\n",
            "       'Sleep Efficiency', 'Sleep Latency', 'Sleep Timing',\n",
            "       'Stay Active Score', 'Move Every Hour Score', 'Activity Burn',\n",
            "       'Total Burn', 'Steps', 'Equivalent Walking Distance', 'Inactive Time',\n",
            "       'Rest Time', 'Medium Activity Time', 'Non-wear Time', 'Average MET',\n",
            "       'Long Periods of Inactivity', 'Previous Day Activity Score',\n",
            "       'Recovery Index Score'],\n",
            "      dtype='object')\n"
          ]
        }
      ]
    },
    {
      "cell_type": "code",
      "source": [
        "X_with_class_O_resampling = X_with_class_O_resampling.drop(['Sleep Score', 'Total Sleep Score', 'REM Sleep Score',\n",
        "       'Deep Sleep Score', 'Sleep Efficiency Score', 'Restfulness Score',\n",
        "       'Sleep Timin Score', 'Total Bedtime ', 'REM Sleep Duration',\n",
        "       'Sleep Efficiency', 'Sleep Latency', 'Sleep Timing',\n",
        "       'Stay Active Score', 'Move Every Hour Score', 'Activity Burn',\n",
        "       'Total Burn', 'Steps', 'Equivalent Walking Distance', 'Inactive Time',\n",
        "       'Rest Time', 'Medium Activity Time', 'Non-wear Time', 'Average MET',\n",
        "       'Long Periods of Inactivity', 'Previous Day Activity Score',\n",
        "       'Recovery Index Score'], axis=1)"
      ],
      "metadata": {
        "id": "eR8S0HvW2QCN"
      },
      "execution_count": null,
      "outputs": []
    },
    {
      "cell_type": "code",
      "source": [
        "X_with_class_O_resampling.shape"
      ],
      "metadata": {
        "colab": {
          "base_uri": "https://localhost:8080/"
        },
        "id": "0HTaZCymdA5N",
        "outputId": "2214b889-4bd1-4792-bf39-93786680c44f"
      },
      "execution_count": null,
      "outputs": [
        {
          "output_type": "execute_result",
          "data": {
            "text/plain": [
              "(64, 25)"
            ]
          },
          "metadata": {},
          "execution_count": 169
        }
      ]
    },
    {
      "cell_type": "code",
      "source": [
        "class_O_resampling_and_features_selected_manual_result_statistics = cross_validation(X_with_class_O_resampling, y_with_class_O_resampling)"
      ],
      "metadata": {
        "id": "V8HHXk4ic2Ob"
      },
      "execution_count": null,
      "outputs": []
    },
    {
      "cell_type": "code",
      "source": [
        "class_O_resampling_and_features_selected_manual_result_statistics"
      ],
      "metadata": {
        "colab": {
          "base_uri": "https://localhost:8080/",
          "height": 300
        },
        "id": "1d0_28S_dETE",
        "outputId": "e2ba2c34-0f99-470d-fa94-74778325416f"
      },
      "execution_count": null,
      "outputs": [
        {
          "output_type": "execute_result",
          "data": {
            "text/plain": [
              "       DecisionTree  RandonForest  Logistic_Regression  Navi Bayes\n",
              "count     30.000000     30.000000            30.000000   30.000000\n",
              "mean       0.724683      0.813254             0.512698    0.831111\n",
              "std        0.038840      0.027360             0.031259    0.019493\n",
              "min        0.623810      0.745238             0.445238    0.773810\n",
              "25%        0.697024      0.794048             0.492857    0.828571\n",
              "50%        0.733333      0.819048             0.515476    0.838095\n",
              "75%        0.748810      0.828571             0.530357    0.842857\n",
              "max        0.795238      0.864286             0.580952    0.859524"
            ],
            "text/html": [
              "\n",
              "  <div id=\"df-41a61c07-dee8-4448-84ca-cd966d359c72\">\n",
              "    <div class=\"colab-df-container\">\n",
              "      <div>\n",
              "<style scoped>\n",
              "    .dataframe tbody tr th:only-of-type {\n",
              "        vertical-align: middle;\n",
              "    }\n",
              "\n",
              "    .dataframe tbody tr th {\n",
              "        vertical-align: top;\n",
              "    }\n",
              "\n",
              "    .dataframe thead th {\n",
              "        text-align: right;\n",
              "    }\n",
              "</style>\n",
              "<table border=\"1\" class=\"dataframe\">\n",
              "  <thead>\n",
              "    <tr style=\"text-align: right;\">\n",
              "      <th></th>\n",
              "      <th>DecisionTree</th>\n",
              "      <th>RandonForest</th>\n",
              "      <th>Logistic_Regression</th>\n",
              "      <th>Navi Bayes</th>\n",
              "    </tr>\n",
              "  </thead>\n",
              "  <tbody>\n",
              "    <tr>\n",
              "      <th>count</th>\n",
              "      <td>30.000000</td>\n",
              "      <td>30.000000</td>\n",
              "      <td>30.000000</td>\n",
              "      <td>30.000000</td>\n",
              "    </tr>\n",
              "    <tr>\n",
              "      <th>mean</th>\n",
              "      <td>0.724683</td>\n",
              "      <td>0.813254</td>\n",
              "      <td>0.512698</td>\n",
              "      <td>0.831111</td>\n",
              "    </tr>\n",
              "    <tr>\n",
              "      <th>std</th>\n",
              "      <td>0.038840</td>\n",
              "      <td>0.027360</td>\n",
              "      <td>0.031259</td>\n",
              "      <td>0.019493</td>\n",
              "    </tr>\n",
              "    <tr>\n",
              "      <th>min</th>\n",
              "      <td>0.623810</td>\n",
              "      <td>0.745238</td>\n",
              "      <td>0.445238</td>\n",
              "      <td>0.773810</td>\n",
              "    </tr>\n",
              "    <tr>\n",
              "      <th>25%</th>\n",
              "      <td>0.697024</td>\n",
              "      <td>0.794048</td>\n",
              "      <td>0.492857</td>\n",
              "      <td>0.828571</td>\n",
              "    </tr>\n",
              "    <tr>\n",
              "      <th>50%</th>\n",
              "      <td>0.733333</td>\n",
              "      <td>0.819048</td>\n",
              "      <td>0.515476</td>\n",
              "      <td>0.838095</td>\n",
              "    </tr>\n",
              "    <tr>\n",
              "      <th>75%</th>\n",
              "      <td>0.748810</td>\n",
              "      <td>0.828571</td>\n",
              "      <td>0.530357</td>\n",
              "      <td>0.842857</td>\n",
              "    </tr>\n",
              "    <tr>\n",
              "      <th>max</th>\n",
              "      <td>0.795238</td>\n",
              "      <td>0.864286</td>\n",
              "      <td>0.580952</td>\n",
              "      <td>0.859524</td>\n",
              "    </tr>\n",
              "  </tbody>\n",
              "</table>\n",
              "</div>\n",
              "      <button class=\"colab-df-convert\" onclick=\"convertToInteractive('df-41a61c07-dee8-4448-84ca-cd966d359c72')\"\n",
              "              title=\"Convert this dataframe to an interactive table.\"\n",
              "              style=\"display:none;\">\n",
              "        \n",
              "  <svg xmlns=\"http://www.w3.org/2000/svg\" height=\"24px\"viewBox=\"0 0 24 24\"\n",
              "       width=\"24px\">\n",
              "    <path d=\"M0 0h24v24H0V0z\" fill=\"none\"/>\n",
              "    <path d=\"M18.56 5.44l.94 2.06.94-2.06 2.06-.94-2.06-.94-.94-2.06-.94 2.06-2.06.94zm-11 1L8.5 8.5l.94-2.06 2.06-.94-2.06-.94L8.5 2.5l-.94 2.06-2.06.94zm10 10l.94 2.06.94-2.06 2.06-.94-2.06-.94-.94-2.06-.94 2.06-2.06.94z\"/><path d=\"M17.41 7.96l-1.37-1.37c-.4-.4-.92-.59-1.43-.59-.52 0-1.04.2-1.43.59L10.3 9.45l-7.72 7.72c-.78.78-.78 2.05 0 2.83L4 21.41c.39.39.9.59 1.41.59.51 0 1.02-.2 1.41-.59l7.78-7.78 2.81-2.81c.8-.78.8-2.07 0-2.86zM5.41 20L4 18.59l7.72-7.72 1.47 1.35L5.41 20z\"/>\n",
              "  </svg>\n",
              "      </button>\n",
              "      \n",
              "  <style>\n",
              "    .colab-df-container {\n",
              "      display:flex;\n",
              "      flex-wrap:wrap;\n",
              "      gap: 12px;\n",
              "    }\n",
              "\n",
              "    .colab-df-convert {\n",
              "      background-color: #E8F0FE;\n",
              "      border: none;\n",
              "      border-radius: 50%;\n",
              "      cursor: pointer;\n",
              "      display: none;\n",
              "      fill: #1967D2;\n",
              "      height: 32px;\n",
              "      padding: 0 0 0 0;\n",
              "      width: 32px;\n",
              "    }\n",
              "\n",
              "    .colab-df-convert:hover {\n",
              "      background-color: #E2EBFA;\n",
              "      box-shadow: 0px 1px 2px rgba(60, 64, 67, 0.3), 0px 1px 3px 1px rgba(60, 64, 67, 0.15);\n",
              "      fill: #174EA6;\n",
              "    }\n",
              "\n",
              "    [theme=dark] .colab-df-convert {\n",
              "      background-color: #3B4455;\n",
              "      fill: #D2E3FC;\n",
              "    }\n",
              "\n",
              "    [theme=dark] .colab-df-convert:hover {\n",
              "      background-color: #434B5C;\n",
              "      box-shadow: 0px 1px 3px 1px rgba(0, 0, 0, 0.15);\n",
              "      filter: drop-shadow(0px 1px 2px rgba(0, 0, 0, 0.3));\n",
              "      fill: #FFFFFF;\n",
              "    }\n",
              "  </style>\n",
              "\n",
              "      <script>\n",
              "        const buttonEl =\n",
              "          document.querySelector('#df-41a61c07-dee8-4448-84ca-cd966d359c72 button.colab-df-convert');\n",
              "        buttonEl.style.display =\n",
              "          google.colab.kernel.accessAllowed ? 'block' : 'none';\n",
              "\n",
              "        async function convertToInteractive(key) {\n",
              "          const element = document.querySelector('#df-41a61c07-dee8-4448-84ca-cd966d359c72');\n",
              "          const dataTable =\n",
              "            await google.colab.kernel.invokeFunction('convertToInteractive',\n",
              "                                                     [key], {});\n",
              "          if (!dataTable) return;\n",
              "\n",
              "          const docLinkHtml = 'Like what you see? Visit the ' +\n",
              "            '<a target=\"_blank\" href=https://colab.research.google.com/notebooks/data_table.ipynb>data table notebook</a>'\n",
              "            + ' to learn more about interactive tables.';\n",
              "          element.innerHTML = '';\n",
              "          dataTable['output_type'] = 'display_data';\n",
              "          await google.colab.output.renderOutput(dataTable, element);\n",
              "          const docLink = document.createElement('div');\n",
              "          docLink.innerHTML = docLinkHtml;\n",
              "          element.appendChild(docLink);\n",
              "        }\n",
              "      </script>\n",
              "    </div>\n",
              "  </div>\n",
              "  "
            ]
          },
          "metadata": {},
          "execution_count": 171
        }
      ]
    },
    {
      "cell_type": "markdown",
      "source": [
        "##End test of the RFE Method with manual feature selection"
      ],
      "metadata": {
        "id": "ZvvEk3hNcTnE"
      }
    },
    {
      "cell_type": "code",
      "source": [
        "# train and test\n",
        "\n",
        "X_third_df_finlandia_train, X_third_df_finlandia_test, y_third_df_finlandia_train, y_third_df_finlandia_test = train_test_split(X_with_class_O_resampling.values, y_with_class_O_resampling, test_size=0.2, random_state=42)"
      ],
      "metadata": {
        "id": "KmeiF7RK3xDk"
      },
      "execution_count": null,
      "outputs": []
    },
    {
      "cell_type": "code",
      "source": [
        "X_third_df_finlandia_train.shape, y_third_df_finlandia_train.shape, X_third_df_finlandia_test.shape, y_third_df_finlandia_test.shape"
      ],
      "metadata": {
        "colab": {
          "base_uri": "https://localhost:8080/"
        },
        "id": "cu0WVK_y4ViK",
        "outputId": "4405d814-cb4b-4ae4-be1d-06ce78f0e877"
      },
      "execution_count": null,
      "outputs": [
        {
          "output_type": "execute_result",
          "data": {
            "text/plain": [
              "((51, 25), (51, 4), (13, 25), (13, 4))"
            ]
          },
          "metadata": {},
          "execution_count": 173
        }
      ]
    },
    {
      "cell_type": "code",
      "source": [
        "randonForest = RandomForestClassifier(criterion='entropy', min_samples_leaf=1, min_samples_split=2, n_estimators=100)\n",
        "\n",
        "randonForest.fit(X_third_df_finlandia_train, y_third_df_finlandia_train)\n",
        "\n",
        "predicitionsRF = randonForest.predict(X_third_df_finlandia_test)\n",
        "\n",
        "accuracy_score(y_third_df_finlandia_test.argmax(axis=1), predicitionsRF.argmax(axis=1))"
      ],
      "metadata": {
        "colab": {
          "base_uri": "https://localhost:8080/"
        },
        "id": "s6MhSH2X2yzN",
        "outputId": "09936cf0-c059-4483-afad-d6785ba87374"
      },
      "execution_count": null,
      "outputs": [
        {
          "output_type": "execute_result",
          "data": {
            "text/plain": [
              "0.8461538461538461"
            ]
          },
          "metadata": {},
          "execution_count": 188
        }
      ]
    },
    {
      "cell_type": "code",
      "source": [
        "predicitionsRF.argmax(axis=1)"
      ],
      "metadata": {
        "colab": {
          "base_uri": "https://localhost:8080/"
        },
        "id": "Q9fpf8Egg7XO",
        "outputId": "3c3b5c92-67f8-4bc8-8ba7-bb92d85aa815"
      },
      "execution_count": null,
      "outputs": [
        {
          "output_type": "execute_result",
          "data": {
            "text/plain": [
              "array([0, 0, 1, 0, 0, 1, 0, 0, 0, 3, 0, 0, 2])"
            ]
          },
          "metadata": {},
          "execution_count": 193
        }
      ]
    },
    {
      "cell_type": "code",
      "source": [
        "y_third_df_finlandia_test.argmax(axis=1)"
      ],
      "metadata": {
        "colab": {
          "base_uri": "https://localhost:8080/"
        },
        "id": "r9WVuBixgz_v",
        "outputId": "3859689a-5db0-44c6-9b5d-74ea6954dfa2"
      },
      "execution_count": null,
      "outputs": [
        {
          "output_type": "execute_result",
          "data": {
            "text/plain": [
              "array([0, 0, 1, 0, 1, 1, 0, 0, 0, 3, 0, 2, 2])"
            ]
          },
          "metadata": {},
          "execution_count": 192
        }
      ]
    },
    {
      "cell_type": "code",
      "source": [
        "print(classification_report(y_third_df_finlandia_test.argmax(axis=1), predicitionsRF.argmax(axis=1)))"
      ],
      "metadata": {
        "colab": {
          "base_uri": "https://localhost:8080/"
        },
        "id": "NN65Ozhje_bV",
        "outputId": "4a9e37ee-2d09-403d-aa7b-419435337b95"
      },
      "execution_count": null,
      "outputs": [
        {
          "output_type": "stream",
          "name": "stdout",
          "text": [
            "              precision    recall  f1-score   support\n",
            "\n",
            "           0       0.78      1.00      0.88         7\n",
            "           1       1.00      0.67      0.80         3\n",
            "           2       1.00      0.50      0.67         2\n",
            "           3       1.00      1.00      1.00         1\n",
            "\n",
            "    accuracy                           0.85        13\n",
            "   macro avg       0.94      0.79      0.84        13\n",
            "weighted avg       0.88      0.85      0.84        13\n",
            "\n"
          ]
        }
      ]
    }
  ]
}